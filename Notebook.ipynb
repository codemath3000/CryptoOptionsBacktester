{
  "cells": [
    {
      "cell_type": "markdown",
      "source": [
        "The first step is a bit of setup: this part sets constants, runs basic housekeeping commands, imports necessary packages, and requests the input file from the user."
      ],
      "metadata": {
        "id": "MBDG32mBFkjK"
      }
    },
    {
      "cell_type": "code",
      "execution_count": null,
      "metadata": {
        "id": "4-zNfaGe94dC"
      },
      "outputs": [],
      "source": [
        "TRADING_DAYS_PER_YEAR = 365 # @param {\"type\":\"integer\",\"placeholder\":\"365\"}\n",
        "CONTRACT_SIZE = 1.0 # @param {\"type\":\"number\",\"placeholder\":\"1.0\"}\n",
        "import numpy as np\n",
        "import pandas as pd\n",
        "import matplotlib.pyplot as plt\n",
        "from google.colab import files\n",
        "\n",
        "btfile = files.upload()"
      ]
    },
    {
      "cell_type": "markdown",
      "source": [
        "This part reads the CSV file and converts it into a sorted dataframe."
      ],
      "metadata": {
        "id": "rkLvLvBNFvY1"
      }
    },
    {
      "cell_type": "code",
      "source": [
        "df = pd.read_csv(list(btfile.keys())[0], parse_dates=[\"date\", \"expiry\"]).sort_values([\"date\", \"instrument_id\"])"
      ],
      "metadata": {
        "id": "1mRQlTFKwRKb"
      },
      "execution_count": null,
      "outputs": []
    },
    {
      "cell_type": "markdown",
      "source": [
        "This sets proper types for the columns."
      ],
      "metadata": {
        "id": "TwJnMSVdGTL3"
      }
    },
    {
      "cell_type": "code",
      "source": [
        "floats = [\"strike\", \"price_bid\", \"price_ask\", \"position\"]\n",
        "for c in floats:\n",
        "    if c in df.columns:\n",
        "      df[c] = df[c].astype(float)\n",
        "df[\"type\"] = df[\"type\"].astype(str)\n",
        "if \"underlying\" not in df.columns:\n",
        "    raise ValueError(\"CSV must include an 'underlying' column\")"
      ],
      "metadata": {
        "id": "7Nn2u3uEwS_r"
      },
      "execution_count": null,
      "outputs": []
    },
    {
      "cell_type": "markdown",
      "source": [
        "Next, we need to set the index."
      ],
      "metadata": {
        "id": "iQRadt4IGWGL"
      }
    },
    {
      "cell_type": "code",
      "source": [
        "df = df.set_index([\"date\", \"instrument_id\"])"
      ],
      "metadata": {
        "id": "F6-1ZXyVwU1E"
      },
      "execution_count": null,
      "outputs": []
    },
    {
      "cell_type": "markdown",
      "source": [
        "If the user attempts to take a position in an option that has already expired, an error is produced."
      ],
      "metadata": {
        "id": "EWOrbIs-Gazv"
      }
    },
    {
      "cell_type": "code",
      "source": [
        "m = df[\"expiry\"].notna() & (df.index.get_level_values(\"date\") > df[\"expiry\"])\n",
        "if (m & (df[\"position\"] != 0) & (df[\"type\"] != \"S\")).any():\n",
        "    raise ValueError(\"Attempted position for expired option\")"
      ],
      "metadata": {
        "id": "Ukgjw8VewW0h"
      },
      "execution_count": null,
      "outputs": []
    },
    {
      "cell_type": "markdown",
      "source": [
        "This part finds the midpoint price for each asset on each day. It then initializes the mark price to be equal to this midpoint price."
      ],
      "metadata": {
        "id": "UqOpR40NGmFx"
      }
    },
    {
      "cell_type": "code",
      "source": [
        "df[\"mid\"] = (df[\"price_bid\"] + df[\"price_ask\"]) / 2\n",
        "df[\"mark\"] = df[\"mid\"]"
      ],
      "metadata": {
        "id": "MrbNhjMlwYj5"
      },
      "execution_count": null,
      "outputs": []
    },
    {
      "cell_type": "markdown",
      "source": [
        "Build a lookup table of spot mid prices (for auto-exercise at expiry)."
      ],
      "metadata": {
        "id": "CT6HYxV6d252"
      }
    },
    {
      "cell_type": "code",
      "source": [
        "spot_rows = df[\"type\"] == \"S\"\n",
        "spot_mid = (\n",
        "    df.loc[spot_rows, [\"mid\"]]\n",
        "      .reset_index()\n",
        "      .rename(columns={\"instrument_id\": \"underlying\",\n",
        "                       \"mid\": \"spot_mid\"})\n",
        ")"
      ],
      "metadata": {
        "id": "UFim3yWOUMA8"
      },
      "execution_count": null,
      "outputs": []
    },
    {
      "cell_type": "markdown",
      "source": [
        "Merge spot mid prices into corresponding option rows (for auto-exercise at expiry)."
      ],
      "metadata": {
        "id": "ip-1pB3ZeeAk"
      }
    },
    {
      "cell_type": "code",
      "source": [
        "option_rows = df[\"type\"].isin([\"C\", \"P\"])\n",
        "opts = (\n",
        "    df.loc[option_rows]\n",
        "      .reset_index()\n",
        "      .merge(spot_mid, on=[\"date\", \"underlying\"], how=\"left\")\n",
        ")\n",
        "\n",
        "if opts[\"spot_mid\"].isna().any():\n",
        "    missing = opts[opts[\"spot_mid\"].isna()][[\"date\", \"instrument_id\", \"underlying\"]]\n",
        "    raise ValueError(f\"Missing spot price for some option rows:\\n{missing}\")"
      ],
      "metadata": {
        "id": "hIiDxsv7UOrE"
      },
      "execution_count": null,
      "outputs": []
    },
    {
      "cell_type": "markdown",
      "source": [
        "Intrinsic is computed from the underlying spot mid."
      ],
      "metadata": {
        "id": "rmTLgTXke545"
      }
    },
    {
      "cell_type": "code",
      "source": [
        "intrinsic = np.zeros(len(df))\n",
        "idx = opts.index\n",
        "\n",
        "call = opts[\"type\"] == \"C\"\n",
        "put = opts[\"type\"] == \"P\"\n",
        "\n",
        "intrinsic[idx[call]] = np.maximum(0, opts.loc[call, \"spot_mid\"] - opts.loc[call, \"strike\"])\n",
        "intrinsic[idx[put]] = np.maximum(0, opts.loc[put,  \"strike\"] - opts.loc[put,  \"spot_mid\"])\n",
        "\n",
        "df[\"intrinsic\"] = intrinsic"
      ],
      "metadata": {
        "id": "LEYVsvjdURDi"
      },
      "execution_count": null,
      "outputs": []
    },
    {
      "cell_type": "markdown",
      "source": [
        "The mark price is treated as zero on the day of an option's expiration (instead, as indicated below, it is auto-exercised)."
      ],
      "metadata": {
        "id": "H0GTPniIHN5K"
      }
    },
    {
      "cell_type": "code",
      "source": [
        "exp_day = df[\"type\"].isin([\"C\", \"P\"]) & (df.index.get_level_values(\"date\") == df[\"expiry\"])\n",
        "df.loc[exp_day, \"mark\"] = 0.0"
      ],
      "metadata": {
        "id": "g_FVUUkDwceB"
      },
      "execution_count": null,
      "outputs": []
    },
    {
      "cell_type": "markdown",
      "source": [
        "These are shifted versions of the position and mark price columns, which are used to determine changes in those values."
      ],
      "metadata": {
        "id": "wipZW94qH42p"
      }
    },
    {
      "cell_type": "code",
      "source": [
        "pos_prev = df.groupby(level=1)[\"position\"].shift(1).fillna(0)\n",
        "mark_prev = df.groupby(level=1)[\"mark\"].shift(1)"
      ],
      "metadata": {
        "id": "9Elkn7Hvwert"
      },
      "execution_count": null,
      "outputs": []
    },
    {
      "cell_type": "markdown",
      "source": [
        "This calculates the change in mark price for pre-existing positions."
      ],
      "metadata": {
        "id": "xc1XIwx_IUfL"
      }
    },
    {
      "cell_type": "code",
      "source": [
        "price_leg = (df[\"mark\"] - mark_prev).fillna(0) * pos_prev * CONTRACT_SIZE"
      ],
      "metadata": {
        "id": "5tsQhpIBwgtB"
      },
      "execution_count": null,
      "outputs": []
    },
    {
      "cell_type": "markdown",
      "source": [
        "This auto-exercises options at expiry."
      ],
      "metadata": {
        "id": "2C9gCD5DL4e6"
      }
    },
    {
      "cell_type": "code",
      "source": [
        "expiry_hit = df[\"type\"].isin([\"C\", \"P\"]) & (df.index.get_level_values(\"date\") == df[\"expiry\"])\n",
        "exercise_leg = np.where(expiry_hit, df[\"intrinsic\"] * pos_prev * CONTRACT_SIZE, 0.0)"
      ],
      "metadata": {
        "id": "-coLiUTBwjNF"
      },
      "execution_count": null,
      "outputs": []
    },
    {
      "cell_type": "markdown",
      "source": [
        "This accounts for bid-ask spread."
      ],
      "metadata": {
        "id": "OQxljpklMAwP"
      }
    },
    {
      "cell_type": "code",
      "source": [
        "delta = df[\"position\"] - pos_prev\n",
        "spread_half = (df[\"price_ask\"] - df[\"price_bid\"]) / 2\n",
        "cost = delta.abs() * spread_half * CONTRACT_SIZE"
      ],
      "metadata": {
        "id": "2w88A_RiwnIb"
      },
      "execution_count": null,
      "outputs": []
    },
    {
      "cell_type": "markdown",
      "source": [
        "This calculates the per-day PnL."
      ],
      "metadata": {
        "id": "etK65hkHMEDo"
      }
    },
    {
      "cell_type": "code",
      "source": [
        "pnl = (price_leg + exercise_leg - cost).groupby(level=0).sum()"
      ],
      "metadata": {
        "id": "tQgmB1z6wqvF"
      },
      "execution_count": null,
      "outputs": []
    },
    {
      "cell_type": "markdown",
      "source": [
        "Now, we can calculate the annualized Sharpe ratio."
      ],
      "metadata": {
        "id": "AM2UTr3CMGyY"
      }
    },
    {
      "cell_type": "code",
      "source": [
        "mu, sigma = pnl.mean(), pnl.std(ddof=0)\n",
        "sharpe = np.nan if sigma == 0 else mu / sigma * np.sqrt(TRADING_DAYS_PER_YEAR)\n",
        "print(f\"Sharpe ratio: {sharpe:.4f}\")"
      ],
      "metadata": {
        "id": "FdTVY4w5wyoO"
      },
      "execution_count": null,
      "outputs": []
    },
    {
      "cell_type": "markdown",
      "source": [
        "Finally, the cumulative PnL can be displayed as a graph."
      ],
      "metadata": {
        "id": "y1RxBLA9MI07"
      }
    },
    {
      "cell_type": "code",
      "source": [
        "plt.figure(figsize=(10, 5))\n",
        "plt.plot(pnl.cumsum().index, pnl.cumsum().values)\n",
        "plt.title(\"Cumulative PnL\")\n",
        "plt.xlabel(\"Date\")\n",
        "plt.ylabel(\"PnL\")\n",
        "plt.grid(True, linestyle=\"--\", alpha=0.6)\n",
        "plt.tight_layout()\n",
        "plt.show()"
      ],
      "metadata": {
        "id": "b401NCmCw04q"
      },
      "execution_count": null,
      "outputs": []
    }
  ],
  "metadata": {
    "colab": {
      "provenance": []
    },
    "kernelspec": {
      "display_name": "Python 3",
      "name": "python3"
    },
    "language_info": {
      "name": "python"
    }
  },
  "nbformat": 4,
  "nbformat_minor": 0
}
